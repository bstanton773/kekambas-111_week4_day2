{
 "cells": [
  {
   "cell_type": "markdown",
   "metadata": {},
   "source": [
    "# Regular Expressions"
   ]
  },
  {
   "cell_type": "markdown",
   "metadata": {},
   "source": [
    "# Tasks today:\n",
    "1) <b>Importing</b> <br>\n",
    "2) <b>Using Regular Expressions</b> <br>\n",
    " &nbsp;&nbsp;&nbsp;&nbsp; a) re.compile() <br>\n",
    " &nbsp;&nbsp;&nbsp;&nbsp; b) re.match() <br>\n",
    " &nbsp;&nbsp;&nbsp;&nbsp; c) re.findall() <br>\n",
    " &nbsp;&nbsp;&nbsp;&nbsp; d) re.search() <br>\n",
    "3) <b>Sets</b> <br>\n",
    " &nbsp;&nbsp;&nbsp;&nbsp; a) Integer Ranges <br>\n",
    " &nbsp;&nbsp;&nbsp;&nbsp; b) Character Ranges <br>\n",
    "4) <b>Counting Occurences</b> <br>\n",
    " &nbsp;&nbsp;&nbsp;&nbsp; a) {x} <br>\n",
    " &nbsp;&nbsp;&nbsp;&nbsp; b) {, x} <br>\n",
    " &nbsp;&nbsp;&nbsp;&nbsp; c) {?} <br>\n",
    " &nbsp;&nbsp;&nbsp;&nbsp; d) {*} <br>\n",
    " &nbsp;&nbsp;&nbsp;&nbsp; e) {+} <br>\n",
    "5) <b>In-Class Exercise #1</b> <br>\n",
    "6) <b>Escaping Characters</b> <br>\n",
    "7) <b>Grouping</b> <br>\n",
    "8) <b>In-Class Exercise #2</b> <br>\n",
    "9) <b>Opening a File</b> <br>\n",
    " &nbsp;&nbsp;&nbsp;&nbsp; a) open() <br>\n",
    " &nbsp;&nbsp;&nbsp;&nbsp; b) with open() <br>\n",
    " &nbsp;&nbsp;&nbsp;&nbsp; c) re.match() <br>\n",
    " &nbsp;&nbsp;&nbsp;&nbsp; d) re.search() <br>\n",
    " &nbsp;&nbsp;&nbsp;&nbsp; e) Store the String in a Variable <br>\n",
    "10) <b>Regex Project</b> <br>"
   ]
  },
  {
   "cell_type": "markdown",
   "metadata": {},
   "source": [
    "### Importing <br>\n",
    "<p>Regular Expressions are universal throughout most programming languages... They are generally imported through the module 're'.</p>"
   ]
  },
  {
   "cell_type": "code",
   "execution_count": 1,
   "metadata": {},
   "outputs": [],
   "source": [
    "# import re\n",
    "import re"
   ]
  },
  {
   "cell_type": "code",
   "execution_count": 2,
   "metadata": {},
   "outputs": [
    {
     "name": "stdout",
     "output_type": "stream",
     "text": [
      "<module 're' from 'C:\\\\Users\\\\bstan\\\\anaconda3\\\\lib\\\\re.py'>\n"
     ]
    }
   ],
   "source": [
    "print(re)"
   ]
  },
  {
   "cell_type": "markdown",
   "metadata": {},
   "source": [
    "### Using Regular Expressions <br>\n",
    "<p>Regular expressions give us the ability to search for patterns within text, strings, files, etc. They serve several uses, such as; security measures, searching, filtering, pattern recognition, and more...</p>"
   ]
  },
  {
   "cell_type": "markdown",
   "metadata": {},
   "source": [
    "##### re.compile()"
   ]
  },
  {
   "cell_type": "code",
   "execution_count": 5,
   "metadata": {},
   "outputs": [
    {
     "name": "stdout",
     "output_type": "stream",
     "text": [
      "re.compile('abcd')\n",
      "<class 're.Pattern'>\n"
     ]
    },
    {
     "data": {
      "text/plain": [
       "re.compile(r'abcd', re.UNICODE)"
      ]
     },
     "execution_count": 5,
     "metadata": {},
     "output_type": "execute_result"
    }
   ],
   "source": [
    "# using compile, predetermines the string to be used in regular expression methods\n",
    "pattern = re.compile('abcd')\n",
    "print(pattern)\n",
    "print(type(pattern))\n",
    "pattern"
   ]
  },
  {
   "cell_type": "markdown",
   "metadata": {},
   "source": [
    "##### re.match()"
   ]
  },
  {
   "cell_type": "code",
   "execution_count": 6,
   "metadata": {},
   "outputs": [
    {
     "name": "stdout",
     "output_type": "stream",
     "text": [
      "Help on built-in function match:\n",
      "\n",
      "match(string, pos=0, endpos=9223372036854775807) method of re.Pattern instance\n",
      "    Matches zero or more characters at the beginning of the string.\n",
      "\n"
     ]
    }
   ],
   "source": [
    "help(pattern.match)"
   ]
  },
  {
   "cell_type": "code",
   "execution_count": 7,
   "metadata": {},
   "outputs": [
    {
     "name": "stdout",
     "output_type": "stream",
     "text": [
      "<re.Match object; span=(0, 4), match='abcd'>\n"
     ]
    }
   ],
   "source": [
    "# calling the .match method from the Pattern object - returns a Match object if there is a match\n",
    "match = pattern.match('abcd123')\n",
    "\n",
    "print(match)"
   ]
  },
  {
   "cell_type": "code",
   "execution_count": 8,
   "metadata": {},
   "outputs": [
    {
     "name": "stdout",
     "output_type": "stream",
     "text": [
      "None\n"
     ]
    }
   ],
   "source": [
    "# returns None if there is no match. *Match starts at the BEGINNING of the string\n",
    "match2 = pattern.match('123abcd')\n",
    "\n",
    "print(match2)"
   ]
  },
  {
   "cell_type": "code",
   "execution_count": 11,
   "metadata": {},
   "outputs": [
    {
     "name": "stdout",
     "output_type": "stream",
     "text": [
      "<re.Match object; span=(0, 4), match='abcd'>\n"
     ]
    }
   ],
   "source": [
    "# Calling the match function from the re module (as opposed to from the Pattern object), pattern is first arg\n",
    "\n",
    "match3 = re.match('abcd', 'abcdefghijklm')\n",
    "\n",
    "print(match3)"
   ]
  },
  {
   "cell_type": "code",
   "execution_count": 15,
   "metadata": {},
   "outputs": [
    {
     "name": "stdout",
     "output_type": "stream",
     "text": [
      "<re.Match object; span=(3, 7), match='abcd'>\n"
     ]
    }
   ],
   "source": [
    "match4 = pattern.match('123abcd123', 3)\n",
    "print(match4)"
   ]
  },
  {
   "cell_type": "code",
   "execution_count": 31,
   "metadata": {},
   "outputs": [
    {
     "name": "stdout",
     "output_type": "stream",
     "text": [
      "(3, 7)\n",
      "3\n"
     ]
    }
   ],
   "source": [
    "print(match4.span())\n",
    "print(match4.start())"
   ]
  },
  {
   "cell_type": "code",
   "execution_count": 38,
   "metadata": {},
   "outputs": [
    {
     "name": "stdout",
     "output_type": "stream",
     "text": [
      "Help on function match in module re:\n",
      "\n",
      "match(pattern, string, flags=0)\n",
      "    Try to apply the pattern at the start of the string, returning\n",
      "    a Match object, or None if no match was found.\n",
      "\n"
     ]
    }
   ],
   "source": [
    "help(re.match)"
   ]
  },
  {
   "cell_type": "markdown",
   "metadata": {},
   "source": [
    "##### re.search()"
   ]
  },
  {
   "cell_type": "code",
   "execution_count": 12,
   "metadata": {},
   "outputs": [
    {
     "name": "stdout",
     "output_type": "stream",
     "text": [
      "Help on built-in function search:\n",
      "\n",
      "search(string, pos=0, endpos=9223372036854775807) method of re.Pattern instance\n",
      "    Scan through string looking for a match, and return a corresponding match object instance.\n",
      "    \n",
      "    Return None if no position in the string matches.\n",
      "\n"
     ]
    }
   ],
   "source": [
    "help(pattern.search)"
   ]
  },
  {
   "cell_type": "code",
   "execution_count": 16,
   "metadata": {},
   "outputs": [
    {
     "name": "stdout",
     "output_type": "stream",
     "text": [
      "<re.Match object; span=(22, 26), match='abcd'>\n"
     ]
    }
   ],
   "source": [
    "# Returns the first match that it finds as it scans left to right through the string\n",
    "search = pattern.search('123 123 bcda adbc 321 abcd 123 abcd')\n",
    "\n",
    "print(search)"
   ]
  },
  {
   "cell_type": "code",
   "execution_count": 17,
   "metadata": {},
   "outputs": [
    {
     "name": "stdout",
     "output_type": "stream",
     "text": [
      "None\n"
     ]
    }
   ],
   "source": [
    "# Returns None if no match is found\n",
    "search2 = pattern.search('123 123 bcda 321 cbda')\n",
    "\n",
    "print(search2)"
   ]
  },
  {
   "cell_type": "code",
   "execution_count": 18,
   "metadata": {},
   "outputs": [
    {
     "name": "stdout",
     "output_type": "stream",
     "text": [
      "<re.Match object; span=(20, 24), match='abcd'>\n"
     ]
    }
   ],
   "source": [
    "# Calling the search function from the re module, pattern is first arg\n",
    "\n",
    "random_string = 'sadlk;;asdfjkl;lsjdkabcdlsdkfjslsjkl'\n",
    "\n",
    "search3 = re.search('abcd', random_string)\n",
    "\n",
    "print(search3)"
   ]
  },
  {
   "cell_type": "code",
   "execution_count": 26,
   "metadata": {},
   "outputs": [
    {
     "name": "stdout",
     "output_type": "stream",
     "text": [
      "(20, 24)\n",
      "<class 'tuple'>\n",
      "abcd\n",
      "abcd\n"
     ]
    }
   ],
   "source": [
    "span = search3.span()\n",
    "\n",
    "print(span)\n",
    "print(type(span))\n",
    "\n",
    "\n",
    "print(random_string[20:24])\n",
    "print(random_string[span[0]:span[1]])"
   ]
  },
  {
   "cell_type": "markdown",
   "metadata": {},
   "source": [
    "##### re.findall()"
   ]
  },
  {
   "cell_type": "code",
   "execution_count": 40,
   "metadata": {},
   "outputs": [
    {
     "name": "stdout",
     "output_type": "stream",
     "text": [
      "Help on built-in function findall:\n",
      "\n",
      "findall(string, pos=0, endpos=9223372036854775807) method of re.Pattern instance\n",
      "    Return a list of all non-overlapping matches of pattern in string.\n",
      "\n"
     ]
    }
   ],
   "source": [
    "help(pattern.findall)"
   ]
  },
  {
   "cell_type": "code",
   "execution_count": 41,
   "metadata": {},
   "outputs": [
    {
     "name": "stdout",
     "output_type": "stream",
     "text": [
      "['abcd', 'abcd', 'abcd', 'abcd', 'abcd']\n"
     ]
    }
   ],
   "source": [
    "# findall returns a list of string of ALL of the matches in the string\n",
    "all_abcds = pattern.findall('123 abcd abcd 321 dbca acbd 123 abcd 321 bacd cadb abcd abcd')\n",
    "\n",
    "print(all_abcds)"
   ]
  },
  {
   "cell_type": "code",
   "execution_count": 42,
   "metadata": {},
   "outputs": [
    {
     "name": "stdout",
     "output_type": "stream",
     "text": [
      "[]\n"
     ]
    }
   ],
   "source": [
    "# return an empty list [] if no matches\n",
    "all_abcds2 = pattern.findall('123 123 dcba 321 acbd adbc')\n",
    "\n",
    "print(all_abcds2)"
   ]
  },
  {
   "cell_type": "code",
   "execution_count": 44,
   "metadata": {},
   "outputs": [
    {
     "name": "stdout",
     "output_type": "stream",
     "text": [
      "['abcd', 'abcd', 'abcd']\n"
     ]
    }
   ],
   "source": [
    "# Calling the finall from the re module, pattern is the first arg\n",
    "\n",
    "find = re.findall('abcd', 'dskfhnasdfkabcdljaslkdjfabcdlajsfkljcabcdal;sdjfabc')\n",
    "\n",
    "print(find)"
   ]
  },
  {
   "cell_type": "markdown",
   "metadata": {},
   "source": [
    "##### re.finditer()"
   ]
  },
  {
   "cell_type": "code",
   "execution_count": 45,
   "metadata": {},
   "outputs": [
    {
     "name": "stdout",
     "output_type": "stream",
     "text": [
      "<callable_iterator object at 0x0000023F7D3C2730>\n"
     ]
    }
   ],
   "source": [
    "find_all_iters = pattern.finditer('dskfhnasdfkabcdljaslkdjfabcdlajsfkljcabcdal;sdjfabc')\n",
    "\n",
    "print(find_all_iters)"
   ]
  },
  {
   "cell_type": "code",
   "execution_count": 46,
   "metadata": {},
   "outputs": [
    {
     "name": "stdout",
     "output_type": "stream",
     "text": [
      "<re.Match object; span=(11, 15), match='abcd'>\n",
      "(11, 15)\n",
      "=========================\n",
      "<re.Match object; span=(24, 28), match='abcd'>\n",
      "(24, 28)\n",
      "=========================\n",
      "<re.Match object; span=(37, 41), match='abcd'>\n",
      "(37, 41)\n",
      "=========================\n"
     ]
    }
   ],
   "source": [
    "for m in find_all_iters:\n",
    "    print(m)\n",
    "    print(m.span())\n",
    "    print('='*25)"
   ]
  },
  {
   "cell_type": "markdown",
   "metadata": {},
   "source": [
    "### Sets <br>\n",
    "<p>The following cells will allow you to use regular expressions to search for certain values within a range such as numbers 1 through 4.</p>"
   ]
  },
  {
   "cell_type": "markdown",
   "metadata": {},
   "source": [
    "##### [a-z] or [A-Z] - any lowercase/uppercase letters from a to z<br/>[^2] - anything that's not 2"
   ]
  },
  {
   "cell_type": "code",
   "execution_count": 47,
   "metadata": {},
   "outputs": [
    {
     "name": "stdout",
     "output_type": "stream",
     "text": [
      "['3', '3', '7', '1', '3', '1', '9', '3', '7', '9', '3', '7']\n"
     ]
    }
   ],
   "source": [
    "pattern_odd = re.compile('[13579]')\n",
    "number_string = '38437128834619403824793847'\n",
    "\n",
    "odds = pattern_odd.findall(number_string)\n",
    "\n",
    "print(odds)"
   ]
  },
  {
   "cell_type": "markdown",
   "metadata": {},
   "source": [
    "##### Integer Ranges"
   ]
  },
  {
   "cell_type": "code",
   "execution_count": 52,
   "metadata": {},
   "outputs": [
    {
     "name": "stdout",
     "output_type": "stream",
     "text": [
      "['4', '3', '4', '0', '3', '0', '2', '4', '3', '2', '5', '3', '5']\n"
     ]
    }
   ],
   "source": [
    "pattern_int_range = re.compile('[0-5]')\n",
    "new_nums = \"698743940730294793257389576\"\n",
    "\n",
    "zero_to_five = pattern_int_range.findall(new_nums)\n",
    "\n",
    "print(zero_to_five)"
   ]
  },
  {
   "cell_type": "code",
   "execution_count": 53,
   "metadata": {},
   "outputs": [
    {
     "name": "stdout",
     "output_type": "stream",
     "text": [
      "['43', '40', '30', '29', '47', '32', '57', '38', '57']\n"
     ]
    }
   ],
   "source": [
    "pattern_two_sets = re.compile('[0-5][0-9]')\n",
    "\n",
    "find_nums = pattern_two_sets.findall(new_nums)\n",
    "\n",
    "print(find_nums)"
   ]
  },
  {
   "cell_type": "code",
   "execution_count": 56,
   "metadata": {},
   "outputs": [
    {
     "data": {
      "text/plain": [
       "['60612', '60634', '60647', '60606']"
      ]
     },
     "execution_count": 56,
     "metadata": {},
     "output_type": "execute_result"
    }
   ],
   "source": [
    "zip_codes = \"60612, 48437, 23743, 60634, 76239, 60647, 60606\"\n",
    "\n",
    "chicago_zip_codes = re.compile('606[0-9][0-9]')\n",
    "\n",
    "chicago_zip_codes.findall(zip_codes)"
   ]
  },
  {
   "cell_type": "code",
   "execution_count": 60,
   "metadata": {},
   "outputs": [
    {
     "name": "stdout",
     "output_type": "stream",
     "text": [
      "['1', '3', '4', '6', '7', '8']\n"
     ]
    }
   ],
   "source": [
    "not_two = re.compile('[^259]')\n",
    "\n",
    "non_twos = not_two.findall('123456789')\n",
    "\n",
    "print(non_twos)"
   ]
  },
  {
   "cell_type": "markdown",
   "metadata": {},
   "source": [
    "##### Character Ranges"
   ]
  },
  {
   "cell_type": "code",
   "execution_count": 64,
   "metadata": {},
   "outputs": [
    {
     "name": "stdout",
     "output_type": "stream",
     "text": [
      "['a', 'b', 'c', 'd', 'a', 'b', 'c', 'd', 'd', 'b', 'c', 'a', 'a', 'c', 'b', 'd', 'a', 'b', 'c', 'd', 'b', 'a', 'c', 'd', 'c', 'a', 'd', 'b', 'a', 'b', 'c', 'd', 'a', 'b', 'c', 'd']\n"
     ]
    }
   ],
   "source": [
    "abcds_pattern = re.compile('[abcd]')\n",
    "\n",
    "my_abcds = abcds_pattern.findall('123 abcd abcd 321 dbca acbd 123 abcd 321 bacd cadb abcd abcd')\n",
    "\n",
    "print(my_abcds)"
   ]
  },
  {
   "cell_type": "code",
   "execution_count": 66,
   "metadata": {},
   "outputs": [
    {
     "name": "stdout",
     "output_type": "stream",
     "text": [
      "['h', 'i', 'i', 'a', 'a', 'd', 'm', 'i', 'g']\n"
     ]
    }
   ],
   "source": [
    "char_range = re.compile('[a-m]')\n",
    "\n",
    "found_first_half = char_range.findall('this is a random string')\n",
    "\n",
    "print(found_first_half)"
   ]
  },
  {
   "cell_type": "code",
   "execution_count": 71,
   "metadata": {},
   "outputs": [
    {
     "name": "stdout",
     "output_type": "stream",
     "text": [
      "['T', 'o', 'd', 'a', 'y', 'i', 's', 'M', 'a', 'r', 'c', 'h', 't', 'h', 'a', 'n', 'd', 'i', 't', 'i', 's', 'd', 'e', 'g', 'r', 'e', 'e', 's', 'a', 'n', 'd', 'I', 'l', 'i', 'v', 'e', 'a', 't', 'R', 'e', 'a', 'l', 'S', 't', 'r', 'e', 'e', 't']\n"
     ]
    }
   ],
   "source": [
    "# all_alphabet = re.compile('[A-z]')\n",
    "# all_alphabet = re.compile('[A-Za-z]')\n",
    "all_alphabet = re.compile('[A-z]')\n",
    "\n",
    "\n",
    "\n",
    "letters = all_alphabet.findall('Today is March 7th and it is 48 degrees and I live at 123 Real Street')\n",
    "\n",
    "print(letters)"
   ]
  },
  {
   "cell_type": "code",
   "execution_count": 73,
   "metadata": {},
   "outputs": [
    {
     "data": {
      "text/plain": [
       "'uncamel This Camel Example Please And Thank You'"
      ]
     },
     "execution_count": 73,
     "metadata": {},
     "output_type": "execute_result"
    }
   ],
   "source": [
    "def uncamel(cameled_string):\n",
    "    output = ''\n",
    "    upper_letter = re.compile('[A-Z]')\n",
    "    for letter in cameled_string:\n",
    "        if upper_letter.match(letter):\n",
    "            output += ' '\n",
    "        output += letter\n",
    "    return output\n",
    "\n",
    "\n",
    "uncamel('uncamelThisCamelExamplePleaseAndThankYou')"
   ]
  },
  {
   "cell_type": "code",
   "execution_count": 74,
   "metadata": {},
   "outputs": [
    {
     "name": "stdout",
     "output_type": "stream",
     "text": [
      "None\n",
      "None\n",
      "None\n",
      "None\n",
      "None\n",
      "None\n",
      "None\n",
      "<re.Match object; span=(0, 1), match='T'>\n",
      "None\n",
      "None\n",
      "None\n",
      "<re.Match object; span=(0, 1), match='C'>\n",
      "None\n",
      "None\n",
      "None\n",
      "None\n",
      "<re.Match object; span=(0, 1), match='E'>\n",
      "None\n",
      "None\n",
      "None\n",
      "None\n",
      "None\n",
      "None\n",
      "<re.Match object; span=(0, 1), match='P'>\n",
      "None\n",
      "None\n",
      "None\n",
      "None\n",
      "None\n",
      "<re.Match object; span=(0, 1), match='A'>\n",
      "None\n",
      "None\n",
      "<re.Match object; span=(0, 1), match='T'>\n",
      "None\n",
      "None\n",
      "None\n",
      "None\n",
      "<re.Match object; span=(0, 1), match='Y'>\n",
      "None\n",
      "None\n"
     ]
    }
   ],
   "source": [
    "for letter in 'uncamelThisCamelExamplePleaseAndThankYou':\n",
    "    print(re.match('[A-Z]', letter))"
   ]
  },
  {
   "cell_type": "markdown",
   "metadata": {},
   "source": [
    "### Counting Occurences"
   ]
  },
  {
   "cell_type": "markdown",
   "metadata": {},
   "source": [
    "##### {x} - something that occurs {num_of_times}"
   ]
  },
  {
   "cell_type": "code",
   "execution_count": null,
   "metadata": {},
   "outputs": [],
   "source": []
  },
  {
   "cell_type": "markdown",
   "metadata": {},
   "source": [
    "##### {x, x} - something that occurs between x and x times"
   ]
  },
  {
   "cell_type": "code",
   "execution_count": null,
   "metadata": {},
   "outputs": [],
   "source": []
  },
  {
   "cell_type": "markdown",
   "metadata": {},
   "source": [
    "##### ? - something that occurs 0 or 1 time"
   ]
  },
  {
   "cell_type": "code",
   "execution_count": null,
   "metadata": {},
   "outputs": [],
   "source": []
  },
  {
   "cell_type": "markdown",
   "metadata": {},
   "source": [
    "##### * - something that occurs at least 0 times"
   ]
  },
  {
   "cell_type": "code",
   "execution_count": null,
   "metadata": {},
   "outputs": [],
   "source": []
  },
  {
   "cell_type": "markdown",
   "metadata": {},
   "source": [
    "##### + - something that occurs at least once"
   ]
  },
  {
   "cell_type": "code",
   "execution_count": null,
   "metadata": {},
   "outputs": [],
   "source": []
  },
  {
   "cell_type": "markdown",
   "metadata": {},
   "source": [
    "##### In-class exercise 1: \n",
    "\n",
    "Use a regular expression to find every number in the given string"
   ]
  },
  {
   "cell_type": "code",
   "execution_count": null,
   "metadata": {},
   "outputs": [],
   "source": [
    "my_string = \"This string has 10909090 numbers, but it is only 1 string. I hope you solve this 2day.\"\n",
    "\n",
    "# Output: ['10909090','1',2]\n"
   ]
  },
  {
   "cell_type": "markdown",
   "metadata": {},
   "source": [
    "### Escaping Characters"
   ]
  },
  {
   "cell_type": "markdown",
   "metadata": {},
   "source": [
    "##### \\w - look for any Unicode character<br/>\\W - look for anything that isnt a Unicode character\n",
    "\n",
    "[History on Unicode](http://unicode.org/standard/WhatIsUnicode.html)\n",
    "\n",
    "[More on Unicode Characters](https://en.wikipedia.org/wiki/List_of_Unicode_characters)"
   ]
  },
  {
   "cell_type": "code",
   "execution_count": null,
   "metadata": {},
   "outputs": [],
   "source": []
  },
  {
   "cell_type": "markdown",
   "metadata": {},
   "source": [
    "##### \\d - look for any digit 0-9<br/>\\D - look for anything that isnt a digit"
   ]
  },
  {
   "cell_type": "code",
   "execution_count": null,
   "metadata": {},
   "outputs": [],
   "source": []
  },
  {
   "cell_type": "markdown",
   "metadata": {},
   "source": [
    "##### \\s - look for any white space<br/>\\S - look for anything that isnt whitespace"
   ]
  },
  {
   "cell_type": "code",
   "execution_count": null,
   "metadata": {},
   "outputs": [],
   "source": []
  },
  {
   "cell_type": "markdown",
   "metadata": {},
   "source": [
    "##### \\b - look for boundaries or edges of a word<br/>\\B - look for anything that isnt a boundary"
   ]
  },
  {
   "cell_type": "code",
   "execution_count": null,
   "metadata": {},
   "outputs": [],
   "source": []
  },
  {
   "cell_type": "markdown",
   "metadata": {},
   "source": [
    "### Grouping"
   ]
  },
  {
   "cell_type": "code",
   "execution_count": null,
   "metadata": {},
   "outputs": [],
   "source": [
    "my_string_again = \"Max Smith, aaron rodgers, Sam Darnold,LeBron James, Micheal Jordan, Kevin Durant, Patrick McCormick\"\n",
    "\n",
    "# Group of names Regular Expression Compiler\n"
   ]
  },
  {
   "cell_type": "markdown",
   "metadata": {},
   "source": [
    "##### In-class Exercise 2:\n",
    "\n",
    "Write a function using regular expressions to find the domain name in the given email addresses (and return None for the invalid email addresses)<br><b>HINT: Use '|' for either or</b>"
   ]
  },
  {
   "cell_type": "code",
   "execution_count": null,
   "metadata": {},
   "outputs": [],
   "source": [
    "my_emails = [\"jordanw@codingtemple.orgcom\", \"pocohontas1776@gmail.com\", \"helloworld@aol..com\",\n",
    "             \"yourfavoriteband@g6.org\", \"@codingtemple.com\"]\n",
    "\n",
    "# You can also use the $ at the end of your compile expression -- this stops the search\n",
    "\n",
    "#Expected output:\n",
    "#None\n",
    "#pocohontas1776@gmail.com\n",
    "#None\n",
    "#yourfavoriteband@g6.org\n",
    "#None\n"
   ]
  },
  {
   "cell_type": "markdown",
   "metadata": {},
   "source": [
    "### Opening a File <br>\n",
    "<p>Python gives us a couple ways to import files, below are the two used most often.</p>"
   ]
  },
  {
   "cell_type": "markdown",
   "metadata": {},
   "source": [
    "##### open()"
   ]
  },
  {
   "cell_type": "code",
   "execution_count": null,
   "metadata": {},
   "outputs": [],
   "source": []
  },
  {
   "cell_type": "markdown",
   "metadata": {},
   "source": [
    "##### with open()"
   ]
  },
  {
   "cell_type": "code",
   "execution_count": null,
   "metadata": {},
   "outputs": [],
   "source": []
  },
  {
   "cell_type": "markdown",
   "metadata": {},
   "source": [
    "##### re.match()"
   ]
  },
  {
   "cell_type": "code",
   "execution_count": null,
   "metadata": {},
   "outputs": [],
   "source": []
  },
  {
   "cell_type": "markdown",
   "metadata": {},
   "source": [
    "##### re.search()"
   ]
  },
  {
   "cell_type": "code",
   "execution_count": null,
   "metadata": {},
   "outputs": [],
   "source": []
  },
  {
   "cell_type": "markdown",
   "metadata": {},
   "source": [
    "##### Store the String to a Variable"
   ]
  },
  {
   "cell_type": "code",
   "execution_count": null,
   "metadata": {},
   "outputs": [],
   "source": []
  },
  {
   "cell_type": "markdown",
   "metadata": {},
   "source": [
    "### In-Class Exercise #3 <br>\n",
    "<p>Print each persons name and twitter handle, using groups, should look like:</p>\n",
    "<p>==============<br>\n",
    "   Full Name / Twitter<br>\n",
    "   ==============</p>\n",
    "Derek Hawkins / @derekhawkins\n",
    "\n",
    " Erik Sven-Osterberg / @sverik\n",
    "\n",
    " Ryan Butz / @ryanbutz\n",
    "\n",
    " Example Exampleson / @example\n",
    "\n",
    " Ripal Pael / @ripalp\n",
    "\n",
    " Darth Vader / @darthvader"
   ]
  },
  {
   "cell_type": "code",
   "execution_count": null,
   "metadata": {
    "scrolled": true
   },
   "outputs": [],
   "source": []
  },
  {
   "cell_type": "markdown",
   "metadata": {},
   "source": [
    "### Regex project\n",
    "\n",
    "Use python to read the file regex_test.txt and print the last name on each line using regular expressions and groups (return None for names with no first and last name, or names that aren't properly capitalized)\n",
    "##### Hint: use with open() and readlines()"
   ]
  },
  {
   "cell_type": "code",
   "execution_count": null,
   "metadata": {},
   "outputs": [],
   "source": [
    "\"\"\"\n",
    "Expected Output\n",
    "Abraham Lincoln\n",
    "Andrew P Garfield\n",
    "Connor Milliken\n",
    "Jordan Alexander Williams\n",
    "None\n",
    "None\n",
    "\"\"\""
   ]
  },
  {
   "cell_type": "code",
   "execution_count": null,
   "metadata": {},
   "outputs": [],
   "source": []
  }
 ],
 "metadata": {
  "kernelspec": {
   "display_name": "Python 3 (ipykernel)",
   "language": "python",
   "name": "python3"
  },
  "language_info": {
   "codemirror_mode": {
    "name": "ipython",
    "version": 3
   },
   "file_extension": ".py",
   "mimetype": "text/x-python",
   "name": "python",
   "nbconvert_exporter": "python",
   "pygments_lexer": "ipython3",
   "version": "3.9.13"
  }
 },
 "nbformat": 4,
 "nbformat_minor": 2
}
